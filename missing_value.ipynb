{
 "cells": [
  {
   "cell_type": "code",
   "execution_count": 1,
   "id": "8d6dabf6",
   "metadata": {},
   "outputs": [
    {
     "name": "stdout",
     "output_type": "stream",
     "text": [
      "Requirement already satisfied: pandas in c:\\bigdata\\.venv\\lib\\site-packages (2.3.0)\n",
      "Requirement already satisfied: numpy>=1.26.0 in c:\\bigdata\\.venv\\lib\\site-packages (from pandas) (2.2.6)\n",
      "Requirement already satisfied: python-dateutil>=2.8.2 in c:\\bigdata\\.venv\\lib\\site-packages (from pandas) (2.9.0.post0)\n",
      "Requirement already satisfied: pytz>=2020.1 in c:\\bigdata\\.venv\\lib\\site-packages (from pandas) (2025.2)\n",
      "Requirement already satisfied: tzdata>=2022.7 in c:\\bigdata\\.venv\\lib\\site-packages (from pandas) (2025.2)\n",
      "Requirement already satisfied: six>=1.5 in c:\\bigdata\\.venv\\lib\\site-packages (from python-dateutil>=2.8.2->pandas) (1.17.0)\n",
      "Note: you may need to restart the kernel to use updated packages.\n"
     ]
    }
   ],
   "source": [
    "pip install --upgrade pandas"
   ]
  },
  {
   "cell_type": "code",
   "execution_count": 14,
   "id": "81783cdb",
   "metadata": {},
   "outputs": [],
   "source": [
    "import pandas as pd\n",
    "import numpy as np\n",
    "import matplotlib.pyplot as plt\n",
    "import seaborn as sns"
   ]
  },
  {
   "cell_type": "code",
   "execution_count": 15,
   "id": "fc0967f5",
   "metadata": {},
   "outputs": [],
   "source": [
    "file_path = r'C:\\BigData\\All_Leagues_Data.xlsx'  # 실제 경로로 변경\n",
    "df = pd.read_excel(file_path)"
   ]
  },
  {
   "cell_type": "code",
   "execution_count": null,
   "id": "ec31bdd1",
   "metadata": {},
   "outputs": [],
   "source": [
    "cols_to_convert = ['Age', 'Matches Played', 'Starts', 'Minutes',\n",
    "       '90s Played', 'Goals', 'Assists', 'Goals + Assists',\n",
    "       'Non-Penalty Goals', 'Penalty Kicks Made', 'Penalty Kicks Attempted',\n",
    "       'Yellow Cards', 'Red Cards', 'xG: Expected Goals',\n",
    "       'npxG: Non-Penalty xG', 'xAG: Exp. Assisted Goals', 'npxG + xAG',\n",
    "       'Progressive Carries', 'Progressive Passes', 'Progressive Passes Rec',\n",
    "       'Goals/90', 'Assists/90', 'Goals + Assists/90', 'Non-Penalty Goals/90',\n",
    "       'Non-Penalty Goals + Assists/90', 'xG/90', 'xAG/90', 'xG + xAG/90',\n",
    "       'npxG/90', 'npxG + xAG/90', 'Market Value']"
   ]
  },
  {
   "cell_type": "code",
   "execution_count": 18,
   "id": "3b6ce498",
   "metadata": {},
   "outputs": [],
   "source": [
    "def convert_market_value(val):\n",
    "    if pd.isna(val):\n",
    "        return np.nan\n",
    "    val = str(val).replace('€', '').replace('m', '000000').replace('k', '000')\n",
    "    try:\n",
    "        return float(val)\n",
    "    except:\n",
    "        return np.nan\n",
    "\n",
    "df['Market Value Numeric'] = df['Market Value'].apply(convert_market_value)"
   ]
  },
  {
   "cell_type": "code",
   "execution_count": 19,
   "id": "d9300427",
   "metadata": {},
   "outputs": [
    {
     "name": "stdout",
     "output_type": "stream",
     "text": [
      "Index(['Rk', 'Age', 'Year of birth', 'Matches Played', 'Starts', 'Minutes',\n",
      "       '90s Played', 'Goals', 'Assists', 'Goals + Assists',\n",
      "       'Non-Penalty Goals', 'Penalty Kicks Made', 'Penalty Kicks Attempted',\n",
      "       'Yellow Cards', 'Red Cards', 'xG: Expected Goals',\n",
      "       'npxG: Non-Penalty xG', 'xAG: Exp. Assisted Goals', 'npxG + xAG',\n",
      "       'Progressive Carries', 'Progressive Passes', 'Progressive Passes Rec',\n",
      "       'Goals/90', 'Assists/90', 'Goals + Assists/90', 'Non-Penalty Goals/90',\n",
      "       'Non-Penalty Goals + Assists/90', 'xG/90', 'xAG/90', 'xG + xAG/90',\n",
      "       'npxG/90', 'npxG + xAG/90', 'Market Value', 'Market Value Numeric'],\n",
      "      dtype='object')\n"
     ]
    }
   ],
   "source": [
    "# 숫자형으로 변환\n",
    "for col in cols_to_convert:\n",
    "    if col in df.columns:\n",
    "        df[col] = pd.to_numeric(df[col], errors='coerce')\n",
    "\n",
    "        # 숫자형 컬럼만 추출\n",
    "numeric_cols = df.select_dtypes(include=[np.number]).columns\n",
    "print(numeric_cols)"
   ]
  },
  {
   "cell_type": "code",
   "execution_count": 20,
   "id": "1d460928",
   "metadata": {},
   "outputs": [
    {
     "name": "stdout",
     "output_type": "stream",
     "text": [
      "Index(['Rk', 'Age', 'Year of birth', 'Matches Played', 'Starts', 'Minutes',\n",
      "       '90s Played', 'Goals', 'Assists', 'Goals + Assists',\n",
      "       'Non-Penalty Goals', 'Penalty Kicks Made', 'Penalty Kicks Attempted',\n",
      "       'Yellow Cards', 'Red Cards', 'xG: Expected Goals',\n",
      "       'npxG: Non-Penalty xG', 'xAG: Exp. Assisted Goals', 'npxG + xAG',\n",
      "       'Progressive Carries', 'Progressive Passes', 'Progressive Passes Rec',\n",
      "       'Goals/90', 'Assists/90', 'Goals + Assists/90', 'Non-Penalty Goals/90',\n",
      "       'Non-Penalty Goals + Assists/90', 'xG/90', 'xAG/90', 'xG + xAG/90',\n",
      "       'npxG/90', 'npxG + xAG/90', 'Market Value', 'Market Value Numeric'],\n",
      "      dtype='object')\n"
     ]
    }
   ],
   "source": [
    "# 숫자형 컬럼만 추출\n",
    "numeric_cols = df.select_dtypes(include=[np.number]).columns\n",
    "print(numeric_cols)"
   ]
  },
  {
   "cell_type": "code",
   "execution_count": 21,
   "id": "f506e8b2",
   "metadata": {},
   "outputs": [
    {
     "name": "stdout",
     "output_type": "stream",
     "text": [
      "Rk\n",
      "Age\n",
      "Year of birth\n",
      "Matches Played\n",
      "Starts\n",
      "Minutes\n",
      "90s Played\n",
      "Goals\n",
      "Assists\n",
      "Goals + Assists\n",
      "Non-Penalty Goals\n",
      "Penalty Kicks Made\n",
      "Penalty Kicks Attempted\n",
      "Yellow Cards\n",
      "Red Cards\n",
      "xG: Expected Goals\n",
      "npxG: Non-Penalty xG\n",
      "xAG: Exp. Assisted Goals\n",
      "npxG + xAG\n",
      "Progressive Carries\n",
      "Progressive Passes\n",
      "Progressive Passes Rec\n",
      "Goals/90\n",
      "Assists/90\n",
      "Goals + Assists/90\n",
      "Non-Penalty Goals/90\n",
      "Non-Penalty Goals + Assists/90\n",
      "xG/90\n",
      "xAG/90\n",
      "xG + xAG/90\n",
      "npxG/90\n",
      "npxG + xAG/90\n",
      "Market Value\n",
      "Market Value Numeric\n"
     ]
    }
   ],
   "source": [
    "for col in numeric_cols:\n",
    "    print(col)"
   ]
  },
  {
   "cell_type": "code",
   "execution_count": 22,
   "id": "b4fdc3fb",
   "metadata": {},
   "outputs": [],
   "source": [
    "import matplotlib.pyplot as plt"
   ]
  },
  {
   "cell_type": "code",
   "execution_count": 23,
   "id": "d756650a",
   "metadata": {},
   "outputs": [
    {
     "name": "stdout",
     "output_type": "stream",
     "text": [
      "Market Value                      1.000000\n",
      "npxG + xAG                        0.462763\n",
      "xAG: Exp. Assisted Goals          0.448340\n",
      "Progressive Carries               0.443337\n",
      "Progressive Passes Rec            0.416870\n",
      "npxG: Non-Penalty xG              0.406479\n",
      "xG: Expected Goals                0.403904\n",
      "Progressive Passes                0.397991\n",
      "Goals + Assists                   0.345511\n",
      "Assists                           0.307491\n",
      "Non-Penalty Goals                 0.301415\n",
      "Goals                             0.299155\n",
      "xG + xAG/90                       0.282170\n",
      "xAG/90                            0.281788\n",
      "npxG + xAG/90                     0.276311\n",
      "Matches Played                    0.256221\n",
      "Minutes                           0.243389\n",
      "90s Played                        0.243346\n",
      "Starts                            0.241082\n",
      "xG/90                             0.218529\n",
      "npxG/90                           0.206758\n",
      "Rk                                0.201351\n",
      "Penalty Kicks Attempted           0.163223\n",
      "Penalty Kicks Made                0.144891\n",
      "Goals + Assists/90                0.132347\n",
      "Yellow Cards                      0.132099\n",
      "Non-Penalty Goals + Assists/90    0.127268\n",
      "Year of birth                     0.107669\n",
      "Goals/90                          0.107665\n",
      "Non-Penalty Goals/90              0.099996\n",
      "Assists/90                        0.091676\n",
      "Red Cards                         0.029667\n",
      "Age                              -0.091254\n",
      "Name: Market Value Numeric, dtype: float64\n"
     ]
    }
   ],
   "source": [
    "# 상관계수 계산\n",
    "correlation = df[numeric_cols].corr()['Market Value Numeric'].drop('Market Value Numeric')\n",
    "print(correlation.sort_values(ascending=False))"
   ]
  },
  {
   "cell_type": "code",
   "execution_count": 24,
   "id": "745eac61",
   "metadata": {},
   "outputs": [],
   "source": [
    "import matplotlib.pyplot as plt\n",
    "import seaborn as sns"
   ]
  },
  {
   "cell_type": "code",
   "execution_count": null,
   "id": "e3348c76",
   "metadata": {},
   "outputs": [],
   "source": [
    "sns.kdeplot(data=df, x='Gls')\n",
    "plt.title('Goals (Gls) Density')\n",
    "plt.show()"
   ]
  },
  {
   "cell_type": "code",
   "execution_count": 13,
   "id": "7c1ab56c",
   "metadata": {},
   "outputs": [
    {
     "ename": "NameError",
     "evalue": "name 'imputer' is not defined",
     "output_type": "error",
     "traceback": [
      "\u001b[31m---------------------------------------------------------------------------\u001b[39m",
      "\u001b[31mNameError\u001b[39m                                 Traceback (most recent call last)",
      "\u001b[36mCell\u001b[39m\u001b[36m \u001b[39m\u001b[32mIn[13]\u001b[39m\u001b[32m, line 16\u001b[39m\n\u001b[32m     14\u001b[39m scaler = StandardScaler()\n\u001b[32m     15\u001b[39m df_scaled = scaler.fit_transform(df_numeric)\n\u001b[32m---> \u001b[39m\u001b[32m16\u001b[39m df_imputed_scaled = \u001b[43mimputer\u001b[49m.fit_transform(df_scaled)\n\u001b[32m     17\u001b[39m df_imputed = scaler.inverse_transform(df_imputed_scaled)\n\u001b[32m     20\u001b[39m \u001b[38;5;66;03m# KNN 임퓨터 (n_neighbors=5: 가장 유사한 5명의 선수 평균)\u001b[39;00m\n",
      "\u001b[31mNameError\u001b[39m: name 'imputer' is not defined"
     ]
    }
   ],
   "source": [
    "import pandas as pd\n",
    "from sklearn.impute import KNNImputer\n",
    "from sklearn.preprocessing import StandardScaler\n",
    "\n",
    "\n",
    "\n",
    "\n",
    "# 숫자형 컬럼만 선택\n",
    "numeric_cols = ['Age', 'Gls', 'Ast', 'Min', 'xG', 'PrgC', 'PrgP', 'Market Value Numeric']\n",
    "df_numeric = df[numeric_cols]\n",
    "\n",
    "# 스케일링 (KNN은 거리 기반이므로 필수)\n",
    "\n",
    "scaler = StandardScaler()\n",
    "df_scaled = scaler.fit_transform(df_numeric)\n",
    "df_imputed_scaled = imputer.fit_transform(df_scaled)\n",
    "df_imputed = scaler.inverse_transform(df_imputed_scaled)\n",
    "\n",
    "\n",
    "# KNN 임퓨터 (n_neighbors=5: 가장 유사한 5명의 선수 평균)\n",
    "imputer = KNNImputer(n_neighbors=5)\n",
    "df_imputed = imputer.fit_transform(df_scaled)\n",
    "\n",
    "# 스케일링 원복\n",
    "df_imputed = scaler.inverse_transform(df_imputed)\n",
    "df_imputed = pd.DataFrame(df_imputed, columns=numeric_cols)\n"
   ]
  },
  {
   "cell_type": "code",
   "execution_count": null,
   "id": "e3d78ec8",
   "metadata": {},
   "outputs": [
    {
     "name": "stdout",
     "output_type": "stream",
     "text": [
      "0\n"
     ]
    }
   ],
   "source": [
    "# df_imputed['Market Value Numeric']의 결측치 개수 확인\n",
    "print(df_imputed['Market Value Numeric'].isna().sum())"
   ]
  },
  {
   "cell_type": "code",
   "execution_count": null,
   "id": "9974c51d",
   "metadata": {},
   "outputs": [
    {
     "name": "stdout",
     "output_type": "stream",
     "text": [
      "Empty DataFrame\n",
      "Columns: [Age, Gls, Ast, Min, xG, PrgC, PrgP, Market Value Numeric]\n",
      "Index: []\n"
     ]
    }
   ],
   "source": [
    "# 결측치가 있는 행만 출력\n",
    "print(df_imputed[df_imputed['Market Value Numeric'].isna()])"
   ]
  },
  {
   "cell_type": "code",
   "execution_count": null,
   "id": "82ecea36",
   "metadata": {},
   "outputs": [
    {
     "name": "stdout",
     "output_type": "stream",
     "text": [
      "Age                     0\n",
      "Gls                     0\n",
      "Ast                     0\n",
      "Min                     0\n",
      "xG                      0\n",
      "PrgC                    0\n",
      "PrgP                    0\n",
      "Market Value Numeric    0\n",
      "dtype: int64\n"
     ]
    }
   ],
   "source": [
    "print(df_imputed.isna().sum())"
   ]
  },
  {
   "cell_type": "code",
   "execution_count": null,
   "id": "abf9aa1b",
   "metadata": {},
   "outputs": [],
   "source": [
    "# 원본 데이터에 병합\n",
    "df['Market Value Numeric'] = df_imputed['Market Value Numeric']"
   ]
  },
  {
   "cell_type": "code",
   "execution_count": null,
   "id": "2de9a8b5",
   "metadata": {},
   "outputs": [
    {
     "name": "stdout",
     "output_type": "stream",
     "text": [
      "파일 저장 완료!\n"
     ]
    }
   ],
   "source": [
    "df.to_excel('PLmerged_resultFile0521_updated.xlsx', index=False)\n",
    "print(\"파일 저장 완료!\")"
   ]
  },
  {
   "cell_type": "code",
   "execution_count": null,
   "id": "a5dfd414",
   "metadata": {},
   "outputs": [
    {
     "name": "stdout",
     "output_type": "stream",
     "text": [
      "Index(['Rk', 'Age', 'MP', 'Starts', 'Min', '90s', 'Gls', 'Ast', 'G+A', 'G-PK',\n",
      "       'PK', 'PKatt', 'CrdY', 'CrdR', 'xG', 'npxG', 'xAG', 'npxG+xAG', 'PrgC',\n",
      "       'PrgP', 'PrgR', 'Gls.1', 'Ast.1', 'G+A.1', 'G-PK.1', 'G+A-PK', 'xG.1',\n",
      "       'xAG.1', 'xG+xAG', 'npxG.1', 'npxG+xAG.1', 'Market Value Numeric'],\n",
      "      dtype='object')\n",
      "0\n"
     ]
    }
   ],
   "source": [
    "import pandas as pd\n",
    "import numpy as np\n",
    "from sklearn.impute import KNNImputer\n",
    "from sklearn.preprocessing import StandardScaler\n",
    "\n",
    "# 1. 데이터 불러오기\n",
    "df = pd.read_excel(r'C:\\BigData\\24-25 선수 몸값\\PLmerged_resultFile0521.xlsx')\n",
    "\n",
    "# 숫자형으로 변환할 컬럼 리스트\n",
    "cols_to_convert = [\n",
    "    'Age', 'MP', 'Starts', 'Min', '90s', 'Gls', 'Ast', 'G+A', 'G-PK', 'PK', 'PKatt', 'CrdY', 'CrdR',\n",
    "    'xG', 'npxG', 'xAG', 'npxG+xAG', 'PrgC', 'PrgP', 'PrgR', \n",
    "    'Gls.1', 'Ast.1', 'G+A.1', 'G-PK.1', 'G+A-PK', \n",
    "    'xG.1', 'xAG.1', 'xG+xAG', 'npxG.1', 'npxG+xAG.1'\n",
    "]\n",
    "\n",
    "# 숫자형으로 변환\n",
    "for col in cols_to_convert:\n",
    "    if col in df.columns:\n",
    "        df[col] = pd.to_numeric(df[col], errors='coerce')\n",
    "\n",
    "# Market Value Numeric 컬럼 생성\n",
    "def convert_market_value(val):\n",
    "    if pd.isna(val):\n",
    "        return np.nan\n",
    "    val = str(val).replace('€', '').replace('m', '000000').replace('k', '000')\n",
    "    try:\n",
    "        return float(val)\n",
    "    except:\n",
    "        return np.nan\n",
    "\n",
    "df['Market Value Numeric'] = df['Market Value'].apply(convert_market_value)\n",
    "\n",
    "# 숫자형 컬럼 추출 (반드시 생성 후에 호출)\n",
    "numeric_cols = df.select_dtypes(include=[np.number]).columns\n",
    "print(numeric_cols)\n",
    "\n",
    "# 스케일링\n",
    "scaler = StandardScaler()\n",
    "df_scaled = scaler.fit_transform(df[numeric_cols])\n",
    "\n",
    "# 임퓨팅\n",
    "imputer = KNNImputer(n_neighbors=5)\n",
    "df_imputed_scaled = imputer.fit_transform(df_scaled)\n",
    "df_imputed = scaler.inverse_transform(df_imputed_scaled)\n",
    "df_imputed = pd.DataFrame(df_imputed, columns=numeric_cols)\n",
    "\n",
    "# 원본에 반영 (인덱스 일치 확인)\n",
    "df_imputed.index = df.index\n",
    "df['Market Value Numeric'] = df_imputed['Market Value Numeric']\n",
    "\n",
    "# 임퓨팅 결과 검증\n",
    "df['impute_diff'] = (df_imputed['Market Value Numeric'] - df['Market Value Numeric'].fillna(0)).abs()\n",
    "large_diff = df.sort_values(by='impute_diff', ascending=False).head(10)[['player', 'Market Value Numeric', 'impute_diff']]\n",
    "\n",
    "# 임계값 초과 시 평균값으로 대체\n",
    "mean_value = df['Market Value Numeric'].mean()\n",
    "threshold = 100000  # 임계값 설정\n",
    "df['Market Value Numeric'] = np.where(\n",
    "    df['impute_diff'] > threshold,\n",
    "    mean_value,\n",
    "    df['Market Value Numeric']\n",
    ")\n",
    "\n",
    "# 결측치 재확인\n",
    "print(df['Market Value Numeric'].isna().sum())\n"
   ]
  },
  {
   "cell_type": "code",
   "execution_count": null,
   "id": "d987c200",
   "metadata": {},
   "outputs": [
    {
     "name": "stdout",
     "output_type": "stream",
     "text": [
      "파일 저장 완료!\n"
     ]
    }
   ],
   "source": [
    "# 임퓨팅 결과를 원본에 반영\n",
    "df['Market Value Numeric'] = df_imputed['Market Value Numeric']\n",
    "\n",
    "df.to_excel(r'C:\\BigData\\24-25 선수 몸값\\PLmerged_resultFile0521_updated.xlsx', index=False)\n",
    "print(\"파일 저장 완료!\")"
   ]
  }
 ],
 "metadata": {
  "kernelspec": {
   "display_name": ".venv",
   "language": "python",
   "name": "python3"
  },
  "language_info": {
   "codemirror_mode": {
    "name": "ipython",
    "version": 3
   },
   "file_extension": ".py",
   "mimetype": "text/x-python",
   "name": "python",
   "nbconvert_exporter": "python",
   "pygments_lexer": "ipython3",
   "version": "3.12.6"
  }
 },
 "nbformat": 4,
 "nbformat_minor": 5
}
